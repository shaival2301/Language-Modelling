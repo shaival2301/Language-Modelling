{
 "cells": [
  {
   "cell_type": "code",
   "execution_count": 32,
   "metadata": {},
   "outputs": [],
   "source": [
    "import glob\n",
    "import re"
   ]
  },
  {
   "cell_type": "code",
   "execution_count": 42,
   "metadata": {},
   "outputs": [],
   "source": [
    "files=glob.glob('gutenberg/*.txt')\n",
    "fourgramdict={}\n",
    "fivegramdict={}"
   ]
  },
  {
   "cell_type": "code",
   "execution_count": 43,
   "metadata": {},
   "outputs": [],
   "source": [
    "def four_grams(data):\n",
    "    l=[]\n",
    "    j=0\n",
    "    s=''\n",
    "    for i in data:\n",
    "        \n",
    "        \n",
    "        if j<4:\n",
    "            \n",
    "            s=s+i\n",
    "            j+=1\n",
    "            \n",
    "        \n",
    "        elif j==4:\n",
    "            j=0\n",
    "            l.append(s)\n",
    "            s=''\n",
    "            \n",
    "    return l\n",
    "            "
   ]
  },
  {
   "cell_type": "code",
   "execution_count": 44,
   "metadata": {},
   "outputs": [],
   "source": [
    "def five_grams(data):\n",
    "    l=[]\n",
    "    j=0\n",
    "    s=''\n",
    "    for i in data:\n",
    "        \n",
    "        \n",
    "        if j<5:\n",
    "            \n",
    "            s=s+i\n",
    "            j+=1\n",
    "            \n",
    "        \n",
    "        elif j==5:\n",
    "            j=0\n",
    "            l.append(s)\n",
    "            s=''\n",
    "            \n",
    "    return l\n",
    "            "
   ]
  },
  {
   "cell_type": "code",
   "execution_count": 45,
   "metadata": {},
   "outputs": [],
   "source": [
    "for file in files:\n",
    "    f= open(file,'r',encoding='latin-1')\n",
    "    data=f.read()\n",
    "    data=re.sub('\\n','',data)\n",
    "    data=re.sub(r'\\s{2,100}',' ',data)\n",
    "    \n",
    "    data=list(data)\n",
    "    fourgrams=four_grams(data)\n",
    "    fivegrams=five_grams(data)\n",
    "    for i in fourgrams:\n",
    "        if i in fourgramdict:\n",
    "            fourgramdict[i]+=1\n",
    "        else:\n",
    "            fourgramdict[i]=1\n",
    "    for i in fivegrams:\n",
    "        if i in fivegramdict:\n",
    "            fivegramdict[i]+=1\n",
    "        else:\n",
    "            fivegramdict[i]=1\n",
    "            \n"
   ]
  },
  {
   "cell_type": "code",
   "execution_count": null,
   "metadata": {},
   "outputs": [],
   "source": []
  },
  {
   "cell_type": "code",
   "execution_count": null,
   "metadata": {},
   "outputs": [],
   "source": []
  },
  {
   "cell_type": "code",
   "execution_count": null,
   "metadata": {},
   "outputs": [],
   "source": []
  },
  {
   "cell_type": "code",
   "execution_count": null,
   "metadata": {},
   "outputs": [],
   "source": []
  },
  {
   "cell_type": "code",
   "execution_count": null,
   "metadata": {},
   "outputs": [],
   "source": []
  }
 ],
 "metadata": {
  "kernelspec": {
   "display_name": "Python 3",
   "language": "python",
   "name": "python3"
  },
  "language_info": {
   "codemirror_mode": {
    "name": "ipython",
    "version": 3
   },
   "file_extension": ".py",
   "mimetype": "text/x-python",
   "name": "python",
   "nbconvert_exporter": "python",
   "pygments_lexer": "ipython3",
   "version": "3.6.4"
  }
 },
 "nbformat": 4,
 "nbformat_minor": 2
}
